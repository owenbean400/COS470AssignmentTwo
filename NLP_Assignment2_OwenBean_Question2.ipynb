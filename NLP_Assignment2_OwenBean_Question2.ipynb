{
 "cells": [
  {
   "cell_type": "code",
   "execution_count": 1,
   "metadata": {},
   "outputs": [
    {
     "name": "stdout",
     "output_type": "stream",
     "text": [
      "\n",
      "\n",
      "Yes, it is legal to scrape YouTube videos for training data. However, it is important to note that the use of the data must comply with the YouTube Terms of Service and any applicable laws.\n",
      "\n",
      "When scraping YouTube videos, the researcher must ensure that they are not violating any copyright laws, as well as any applicable laws regarding the use of the data. Additionally, the researcher must ensure that they are not infringing upon the rights of the content creator, as YouTube's Terms of Service explicitly state that the content creator holds all rights to the content they upload.\n",
      "\n",
      "In terms of Google's distribution/use rights, YouTube's Terms of Service explicitly states that any use of the content must be in accordance with the YouTube Terms of Service and any applicable laws. As such, the researcher must ensure that their use of the data is compliant with both the YouTube Terms of Service and any applicable laws.\n"
     ]
    }
   ],
   "source": [
    "import openai\n",
    "\n",
    "openai.api_key = \"...\"\n",
    "\n",
    "\n",
    "max_tokens = 1024\n",
    "model_engine = \"text-davinci-003\"\n",
    "prompt = \"Manually migrating this from here because the answers were unsatisfactory: https://datascience.stackexchange.com/questions/26079/is-it-legal-to-scrape-youtube-videos-for-training-data. Can a machine learning researcher scrape youtube or use youtube videos/snippets of youtube videos to train a model? Would this violate 1) the creator's copyrights, 2) google's distribution/use rights? This question does not concern datasets Google has freely released, but rather any other publicly available videos.\"\n",
    "\n",
    "completion = openai.Completion.create(\n",
    "    engine=model_engine,\n",
    "    prompt=prompt,\n",
    "    max_tokens=max_tokens,\n",
    "    temperature=0.5,\n",
    "    top_p=1,\n",
    "    frequency_penalty=0,\n",
    "    presence_penalty=0\n",
    ")\n",
    "\n",
    "print(completion.choices[0].text)"
   ]
  }
 ],
 "metadata": {
  "interpreter": {
   "hash": "b0fa6594d8f4cbf19f97940f81e996739fb7646882a419484c72d19e05852a7e"
  },
  "kernelspec": {
   "display_name": "Python 3.10.9 64-bit",
   "language": "python",
   "name": "python3"
  },
  "language_info": {
   "codemirror_mode": {
    "name": "ipython",
    "version": 3
   },
   "file_extension": ".py",
   "mimetype": "text/x-python",
   "name": "python",
   "nbconvert_exporter": "python",
   "pygments_lexer": "ipython3",
   "version": "3.10.9"
  },
  "orig_nbformat": 4
 },
 "nbformat": 4,
 "nbformat_minor": 2
}
